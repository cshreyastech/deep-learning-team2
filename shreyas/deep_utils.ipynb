{
 "cells": [
  {
   "cell_type": "code",
   "execution_count": null,
   "metadata": {},
   "outputs": [],
   "source": [
    "# -*- coding: utf-8 -*-\n",
    "\"\"\"\n",
    "Utility functions for working with neural networks.\n",
    "\"\"\"\n",
    "from keras.models import model_from_json, model_from_yaml\n",
    "import numpy as np\n",
    "from os.path import exists\n",
    "from glob import glob\n",
    "from PIL import Image\n",
    "import pickle\n",
    "import matplotlib.pyplot as plt"
   ]
  },
  {
   "cell_type": "code",
   "execution_count": null,
   "metadata": {},
   "outputs": [],
   "source": [
    "def resize_data(data):\n",
    "    data_upscaled = np.zeros((data.shape[0], 32, 32, 3))\n",
    "    for i, img in enumerate(data):\n",
    "        small_img = cv2.resize(img, dsize=(32, 32), interpolation=cv2.INTER_CUBIC)\n",
    "        data_downscaled[i] = small_img\n",
    "\n",
    "    return data_downscaled"
   ]
  },
  {
   "cell_type": "code",
   "execution_count": null,
   "metadata": {},
   "outputs": [],
   "source": [
    "def generate_pickle_files(X,y,y_names):\n",
    "    '''Generates pickle file to compress whole dataset.'''\n",
    "    pickle.dump(X, open(r\"X.p\", \"wb\"), protocol=4)\n",
    "    pickle.dump(y, open(r\"y.p\", \"wb\"), protocol=4)\n",
    "    pickle.dump(y_names, open(r\"y_names.p\", \"wb\"), protocol=4)"
   ]
  },
  {
   "cell_type": "code",
   "execution_count": null,
   "metadata": {},
   "outputs": [],
   "source": [
    "def read_data(data_folderpath):\n",
    "    '''Reads full dataset.  Assumes data has been resized.\n",
    "    Assumes \"data_folderpath\" contains subfolders corresponding\n",
    "    to class names and each containing jpg files for class.'''\n",
    "    X=np.zeros((70,32,32,3),dtype=np.uint8)\n",
    "    y=np.zeros((70),dtype=np.uint8)\n",
    "    y_names={}\n",
    "    #Append folderpaths if needed\n",
    "    print(data_folderpath)\n",
    "    \n",
    "    if data_folderpath.endswith('/')==False:\n",
    "        data_folderpath=str(data_folderpath)+ '/'\n",
    "    #Collect all foldernames\n",
    "    foldernames=glob(data_folderpath+'*/')\n",
    "    print(foldernames)\n",
    "    count=0\n",
    "    #Define classes from foldernames\n",
    "    for idx,foldername in enumerate(foldernames):\n",
    "        #Append folder names to classes\n",
    "        y_names[idx]=(foldername.split('/')[-2])\n",
    "        #Build list of filenames    \n",
    "        filelist=glob(foldername+'*')\n",
    "        print(y_names[idx], len(filelist))\n",
    "        for file in filelist:\n",
    "            #Represent classes as integers\n",
    "            y[count]=idx\n",
    "            #Load image\n",
    "            image=Image.open(file)\n",
    "            #store as np.array\n",
    "            X[count]=np.array(image)\n",
    "            image.close()\n",
    "            count+=1\n",
    "\n",
    "    print('Pickling')\n",
    "    generate_pickle_files(X,y,y_names)\n",
    "    #return X, y, y_names"
   ]
  },
  {
   "cell_type": "code",
   "execution_count": null,
   "metadata": {},
   "outputs": [],
   "source": [
    "if __name__ == '__main__':   \n",
    "    dataset=r\"/home/cstx2/datarepo/hw7-8-copy/\"\n",
    "    read_data(dataset)"
   ]
  },
  {
   "cell_type": "code",
   "execution_count": null,
   "metadata": {},
   "outputs": [],
   "source": []
  }
 ],
 "metadata": {
  "kernelspec": {
   "display_name": "Python 3",
   "language": "python",
   "name": "python3"
  },
  "language_info": {
   "codemirror_mode": {
    "name": "ipython",
    "version": 3
   },
   "file_extension": ".py",
   "mimetype": "text/x-python",
   "name": "python",
   "nbconvert_exporter": "python",
   "pygments_lexer": "ipython3",
   "version": "3.6.8"
  }
 },
 "nbformat": 4,
 "nbformat_minor": 2
}
